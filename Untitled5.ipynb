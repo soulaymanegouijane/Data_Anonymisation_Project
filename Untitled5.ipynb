{
 "cells": [
  {
   "cell_type": "code",
   "execution_count": 2,
   "id": "4bf703d8",
   "metadata": {},
   "outputs": [
    {
     "name": "stdout",
     "output_type": "stream",
     "text": [
      "Hello 1 :  00:01:46\n",
      "Hello 2 :  00:01:59\n"
     ]
    },
    {
     "name": "stderr",
     "output_type": "stream",
     "text": [
      "C:\\Users\\soula\\AppData\\Local\\Temp/ipykernel_8096/3156970538.py:17: FutureWarning: Series.dt.weekofyear and Series.dt.week have been deprecated.  Please use Series.dt.isocalendar().week instead.\n",
      "  dfAnon['week'] = dfAnon['Date'].dt.week\n"
     ]
    },
    {
     "name": "stdout",
     "output_type": "stream",
     "text": [
      "Hello 2 :  00:02:38\n"
     ]
    },
    {
     "name": "stderr",
     "output_type": "stream",
     "text": [
      "C:\\Users\\soula\\AppData\\Local\\Temp/ipykernel_8096/3156970538.py:22: FutureWarning: Series.dt.weekofyear and Series.dt.week have been deprecated.  Please use Series.dt.isocalendar().week instead.\n",
      "  dfOrig['week'] = dfOrig['Date'].dt.week\n"
     ]
    },
    {
     "name": "stdout",
     "output_type": "stream",
     "text": [
      "Hello 3 :  00:02:42\n",
      "lecture terminée :  00:02:42\n",
      "week10\n",
      "week11\n",
      "week12\n",
      "week13\n",
      "week14\n",
      "week15\n",
      "week16\n",
      "week17\n",
      "week18\n",
      "week19\n",
      "week20\n",
      "Fichiers weeks: OK :  00:05:53\n"
     ]
    }
   ],
   "source": [
    "from os import name\n",
    "import pandas as pd\n",
    "import csv\n",
    "from math import *\n",
    "import json\n",
    "import gc\n",
    "import datetime\n",
    "\n",
    "def curr_time():\n",
    "    return datetime.datetime.now().strftime(\"%H:%M:%S\")\n",
    "\n",
    "dfAnon = pd.read_csv(\"dbm\", sep=\"\\t\", header=None).set_axis(['QId', 'Date', 'longitude', 'lattitude'], axis=1, inplace=False)\n",
    "print(\"Hello 1 : \", curr_time())\n",
    "dfAnon = dfAnon[(dfAnon['QId']!='DEL')]\n",
    "dfAnon['Date'] = pd.to_datetime(dfAnon['Date'], errors='coerce', dayfirst=True)\n",
    "print(\"Hello 2 : \", curr_time())\n",
    "dfAnon['week'] = dfAnon['Date'].dt.week \n",
    "# Read from CSV's file  original\n",
    "dfOrig = pd.read_csv(\"Databases/Original\", sep=\"\\t\", header=None).set_axis(['Id', 'Date', 'longitude', 'lattitude'], axis=1, inplace=False)\n",
    "dfOrig['Date'] = pd.to_datetime(dfOrig['Date'], errors='coerce', dayfirst=True)\n",
    "print(\"Hello 2 : \", curr_time())\n",
    "dfOrig['week'] = dfOrig['Date'].dt.week \n",
    "print(\"Hello 3 : \", curr_time())\n",
    "print(\"lecture terminée : \", curr_time())\n",
    "# i=0\n",
    "for week in dfOrig['week'].unique():\n",
    "     dfAnon[dfAnon['week'] == week].to_csv(f'./bases_ano/week_{week}.csv', header=False, index=False,sep='\\t')\n",
    "     dfOrig[dfOrig['week'] == week].to_csv(f'./bases_org/week_{week}.csv', header=False, index=False,sep='\\t')\n",
    "     print(f\"week{week}\")\n",
    "    # print(dfOrig['week'].unique())\n",
    "print(\"Fichiers weeks: OK : \", curr_time())\n"
   ]
  },
  {
   "cell_type": "code",
   "execution_count": null,
   "id": "4e980a96",
   "metadata": {},
   "outputs": [],
   "source": []
  },
  {
   "cell_type": "code",
   "execution_count": 7,
   "id": "8443d48e",
   "metadata": {},
   "outputs": [
    {
     "name": "stdout",
     "output_type": "stream",
     "text": [
      "Fichier Json created:  00:14:27\n",
      "reidentification commencé pour 10\n",
      "      qid     lat              long           \n",
      "            count      mean   count       mean\n",
      "0    3173  151283  4.899216  151283  45.761127\n",
      "1    4546    4110  4.878606    4110  45.787557\n",
      "2    6464   20391  4.850542   20391  45.765943\n",
      "3    6468  198951  4.878085  198951  45.780000\n",
      "4    6845  151283  2.304829  151283  44.009195\n",
      "..    ...     ...       ...     ...        ...\n",
      "59  94916  198951  5.265905  198951  45.596146\n",
      "60  95294   40400  4.872912   40400  45.780010\n",
      "61  96368   29431  4.696360   29431  45.749236\n",
      "62  98046   26630  4.402625   26630  45.873143\n",
      "63  98820   98249  5.727812   98249  45.210289\n",
      "\n",
      "[64 rows x 5 columns]\n"
     ]
    }
   ],
   "source": [
    "\n",
    "gc.enable()\n",
    "weeks,ids = dfOrig['week'].unique(),dfOrig['Id'].unique()\n",
    "Guesses = {}\n",
    "for id in ids:\n",
    "    Guesses[str(id)]={}\n",
    "print(\"Fichier Json created: \", curr_time())\n",
    "for week in weeks:\n",
    "    print(f\"reidentification commencé pour {week}\")\n",
    "    dforig = pd.read_csv(f'./bases_org/week_{week}.csv', sep='\\t', names=[\"id\", \"date\", \"lat\", \"long\",\"week\"])\n",
    "    dfano = pd.read_csv(f'./bases_ano/week_{week}.csv', sep='\\t', names=[\"qid\", \"date\", \"lat\", \"long\",\"week\"])\n",
    "    deleted = len(dforig)-len(dfano)\n",
    "    dforig = dforig.groupby(['id'])[['lat','long']].aggregate(['count','mean']).reset_index()\n",
    "    dfano = dfano.groupby(['qid'])[['lat','long']].aggregate(['count','mean']).reset_index()\n",
    "    dfano[\"lat\"][\"mean\"].round(2) \n",
    "    print(dfano)\n",
    "    break\n",
    "#     for id in ids:\n",
    "#         Guesses[str(id)][str(week)]=[]\n",
    "#     if deleted == 0:\n",
    "#         for index, row in dforig.iterrows():\n",
    "#             for index1, row1 in dfano.iterrows():\n",
    "#                  if dforig['lat']['count'][index] == dfano['lat']['count'][index1]:\n",
    "#                     Guesses[str(dforig['id'][index])][week].append(str(dfano['qid'][index1]))\n",
    "#     else:\n",
    "#         for index, row in dforig.iterrows():\n",
    "#             data={}\n",
    "#             data[str(dforig['id'][index])]=[]\n",
    "#             I = str(dforig['id'][index])\n",
    "#             qids=[]\n",
    "#             for index1, row1 in dfano.iterrows():\n",
    "#                 if (dforig['lat']['count'][index]>= dfano['lat']['count'][index1] and dforig['lat']['count'][index]<= dfano['lat']['count'][index1]+deleted):\n",
    "#                     data[I].append(sqrt((dforig['lat']['mean'][index]-dfano['lat']['mean'][index1])**2 +(dforig['long']['mean'][index]-dfano['long']['mean'][index1])**2))\n",
    "#                     qids.append(str(dfano['qid'][index1]))\n",
    "#             df = pd.DataFrame.from_dict(data, orient='index',columns=qids)\n",
    "#             df = df.transpose()\n",
    "#             ordered = df.nsmallest(1,str(dforig['id'][index]))\n",
    "#             list1 = ordered.index.tolist()\n",
    "#             Guesses[str(dforig['id'][index])][week].extend(list1)\n",
    "#         # qids =dfano['qid'].unique()\n",
    "#             # if (x == 0):\n",
    "#             #     print(list1)\n",
    "#             #     x += 1\n",
    "#         # ordered = dfdis.nsmallest(3,str(qids[0]))\n",
    "#         # print(ordered[str(qids[0])])\n",
    "\n",
    "\n",
    "# with open('./guessesDAZC.json','w') as f:\n",
    "#     json.dump(Guesses, f)\n",
    "# counter('./bases_org/week_2015-19.csv','./ano_week_20_19.csv')\n",
    "# #counter('./original.csv','./corr_soumission_2.csv')\n",
    "#         # for index, row in dforig.iterrows():\n",
    "#         #     for index1, row1 in dfano.iterrows():\n",
    "#         #          if dforig['lat']['count'][index]>= dfano['lat']['count'][index1] and dforig['lat']['count'][index]<= dfano['lat']['count'][index1]+deleted:\n",
    "#         #                   Guesses[str(dforig['id'][index])][week].append(str(dfano['qid'][index1]))\n",
    "#         #                 #   ajouter une variable boolean pour verifier que le programme a passé par la condition else !!!!\n",
    "#         #66666666666666666666666666666666666666666666666666666666666666666666666666666666666666666666666666666666\n",
    "#                     # Guesses[str(dforig['id'][index])][week].append(str(dfano['qid'][index1]))\n",
    "#         #                 #   ajouter une variable boolean pour verifier que le programme a passé par la condition else !!!!\n",
    "#                 # else:\n",
    "#                 #     if(dforig['lat']['count'][index]>= dfano['lat']['count'][index1] and dforig['lat']['count'][index]<= dfano['lat']['count'][index1]+deleted):\n",
    "#             #    print(\"let\") \n",
    "#                             # Guesses[dforig['id'][index]][week].append(str(dfano['qid'][index1]))"
   ]
  },
  {
   "cell_type": "code",
   "execution_count": null,
   "id": "cd2bc3cc",
   "metadata": {},
   "outputs": [],
   "source": []
  }
 ],
 "metadata": {
  "kernelspec": {
   "display_name": "Python 3 (ipykernel)",
   "language": "python",
   "name": "python3"
  },
  "language_info": {
   "codemirror_mode": {
    "name": "ipython",
    "version": 3
   },
   "file_extension": ".py",
   "mimetype": "text/x-python",
   "name": "python",
   "nbconvert_exporter": "python",
   "pygments_lexer": "ipython3",
   "version": "3.9.7"
  }
 },
 "nbformat": 4,
 "nbformat_minor": 5
}
