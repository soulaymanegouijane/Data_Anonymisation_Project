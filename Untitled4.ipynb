{
 "cells": [
  {
   "cell_type": "code",
   "execution_count": 1,
   "id": "7ce13915",
   "metadata": {},
   "outputs": [],
   "source": [
    "import pandas as pd\n",
    "df = pd.read_csv(\"test1.csv\",delimiter='\\t',names=['id','datetime','lat','long',\"week\",\"ordre\"],low_memory=False)\n",
    "df['datetime'] = pd.to_datetime(df['datetime'])"
   ]
  },
  {
   "cell_type": "code",
   "execution_count": 4,
   "id": "db204e00",
   "metadata": {},
   "outputs": [],
   "source": [
    "# def setid(id,week):\n",
    "#     df.loc[(df[\"week\"]==week)& (df[\"id\"]==id),\"id\"]=int(id)*256+i*25\n",
    "# for i in range(10, 21):\n",
    "#     print(i)\n",
    "#     df['id']=df['id'].apply(lambda x: setid(x,i))"
   ]
  },
  {
   "cell_type": "code",
   "execution_count": null,
   "id": "667623ba",
   "metadata": {},
   "outputs": [],
   "source": [
    "df.loc[(df[\"week\"]==week)& (df[\"id\"]==id),\"id\"]=int(id)*256+i*25"
   ]
  }
 ],
 "metadata": {
  "kernelspec": {
   "display_name": "Python 3 (ipykernel)",
   "language": "python",
   "name": "python3"
  },
  "language_info": {
   "codemirror_mode": {
    "name": "ipython",
    "version": 3
   },
   "file_extension": ".py",
   "mimetype": "text/x-python",
   "name": "python",
   "nbconvert_exporter": "python",
   "pygments_lexer": "ipython3",
   "version": "3.9.7"
  }
 },
 "nbformat": 4,
 "nbformat_minor": 5
}
